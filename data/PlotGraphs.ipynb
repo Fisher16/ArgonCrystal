{
 "cells": [
  {
   "cell_type": "code",
   "execution_count": 14,
   "metadata": {},
   "outputs": [],
   "source": [
    "import pandas as pd\n",
    "import matplotlib.pyplot as plt\n",
    "import glob\n"
   ]
  },
  {
   "cell_type": "code",
   "execution_count": 15,
   "metadata": {},
   "outputs": [],
   "source": [
    "default_fig_size=[9,6]\n",
    "plt.rcParams['figure.figsize'] = default_fig_size\n",
    "plt.ioff()"
   ]
  },
  {
   "cell_type": "code",
   "execution_count": 26,
   "metadata": {},
   "outputs": [
    {
     "data": {
      "text/plain": [
       "['N343/graphs/TextData/E_T_343_90.000000.txt',\n",
       " 'N343/graphs/TextData/E_T_343_80.000000.txt',\n",
       " 'N343/graphs/TextData/E_T_343_100.000000.txt',\n",
       " 'N343/graphs/TextData/E_T_343_20.000000.txt',\n",
       " 'N343/graphs/TextData/E_T_343_10.000000.txt',\n",
       " 'N343/graphs/TextData/E_T_343_0.000000.txt',\n",
       " 'N343/graphs/TextData/E_T_343_50.000000.txt',\n",
       " 'N343/graphs/TextData/E_T_343_70.000000.txt',\n",
       " 'N343/graphs/TextData/E_T_343_40.000000.txt',\n",
       " 'N343/graphs/TextData/E_T_343_30.000000.txt',\n",
       " 'N343/graphs/TextData/E_T_343_60.000000.txt']"
      ]
     },
     "execution_count": 26,
     "metadata": {},
     "output_type": "execute_result"
    }
   ],
   "source": [
    "N=\"343\"\n",
    "path='N'+N+'/graphs/TextData'\n",
    "allFiles = glob.glob(path + \"/*.txt\")\n",
    "allFiles"
   ]
  },
  {
   "cell_type": "code",
   "execution_count": 27,
   "metadata": {},
   "outputs": [],
   "source": [
    "for name in allFiles:\n",
    "    with open(name,'r') as file:\n",
    "        df=pd.read_csv(file,sep=\" \",names=['time ps','E_tot','Ek','Ep','Temp K'])\n",
    "    df.head()\n",
    "    df['time ps']=df['time ps']*2\n",
    "    df=df.set_index('time ps')\n",
    "    \n",
    "    T0=name.replace(path+\"/E_T_\"+N+\"_\",\"\").replace(\".000000.txt\",\"\")\n",
    "    deltaE=\"%.3f\" % (df.loc[0]-df.loc[1]).E_tot\n",
    "    df.plot(subplots=True,legend=False,grid=True,\n",
    "            title=['Total energy of the system \\n'+\"T0=\"+T0+\"K  \\u0394 E=\"+deltaE,'Kinetic energy of the system','Potential energy of the system','Temperature of the system in K'])\n",
    "    plt.tight_layout()\n",
    "    plt.savefig(name.replace(\"TextData/E_T_\",\"Graph_\").replace(\".000000.txt\",\".png\"))"
   ]
  },
  {
   "cell_type": "code",
   "execution_count": null,
   "metadata": {},
   "outputs": [],
   "source": []
  }
 ],
 "metadata": {
  "kernelspec": {
   "display_name": "Python 3",
   "language": "python",
   "name": "python3"
  },
  "language_info": {
   "codemirror_mode": {
    "name": "ipython",
    "version": 3
   },
   "file_extension": ".py",
   "mimetype": "text/x-python",
   "name": "python",
   "nbconvert_exporter": "python",
   "pygments_lexer": "ipython3",
   "version": "3.6.6"
  }
 },
 "nbformat": 4,
 "nbformat_minor": 2
}
